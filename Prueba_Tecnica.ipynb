{
 "cells": [
  {
   "cell_type": "markdown",
   "metadata": {},
   "source": [
    "# Prueba Técnica\n",
    "## Objetivo de la prueba:\n",
    "Esta prueba tiene como objetivo dimensionar su capacidad técnica en el dominio de\n",
    "herramientas o técnicas usadas con regularidad en la vacante a la cual se ha presentado:\n",
    "## Indicaciones para elaborar la prueba:\n",
    "Para llevar a cabo esta prueba debe preparar una solución basada en una Inteligencia\n",
    "Artificial Generativa capaz de conocer al detalle un documento (Link del documento) y\n",
    "pueda responder preguntas asociadas a este documento. Se sugiere usar Python para\n",
    "resolver los siguientes requerimientos:\n",
    "- Desarrolle un RAG o un agente basado LLM experto en el documento suministrado.\n",
    "- Genere una forma de como presentar o interactuar con este agente virtual experto\n",
    "en el documento entregado.\n",
    "## Bonus (Opcionales, recursos para mejora la calificación):\n",
    "- Si se quisiera masificar esta solución, con muchos documentos más, qué\n",
    "arquitectura basada en infraestructura en nube sugeriría.\n",
    "- Usar GCP para la solución del problema y el punto anterior.\n",
    "- Use las librerías para Python como Streamlit para presentar un Front y\n",
    "resolver el punto 2.\n",
    "- Usar framework como LangChain o LangGraph para solucionar el punto 1.\n",
    "- Presente pruebas de carga de su solución y justifique sus comportamientos.\n",
    "- Proponga e implemente una métrica para el seguimiento de la precisión del\n",
    "modelo.\n",
    "- Desarrolle logs o seguimiento de la solución capaz de medir los tiempos de\n",
    "latencia de los modelos de LLM."
   ]
  },
  {
   "cell_type": "markdown",
   "metadata": {},
   "source": [
    "---\n",
    "## 1. Obtener la data\n",
    "\n",
    "Para obtener la data, la obtendremos del documento PDF suministrado."
   ]
  }
 ],
 "metadata": {
  "language_info": {
   "name": "python"
  }
 },
 "nbformat": 4,
 "nbformat_minor": 2
}
